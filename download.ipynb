{
 "cells": [
  {
   "cell_type": "code",
   "execution_count": 4,
   "metadata": {},
   "outputs": [],
   "source": [
    "from pymatgen.ext.matproj import MPRester #Cette cellule permet de télécharger les modules utilsier pour télécharger le fichier\n",
    "from pymatgen.io.cif import CifWriter     #CIF, avec MPRester qui permet d'accéder à la base de donnée de Material Project (MP)\n",
    "                                          # et CifWriter qui contient les fonctions pour créer un fichier CIF "
   ]
  },
  {
   "cell_type": "code",
   "execution_count": 5,
   "metadata": {},
   "outputs": [],
   "source": [
    "with MPRester(\"GZeryMtA91usB78Q\") as m:                     #Cette cellule utilise ma clé personnelle pour accéder à la base de \n",
    "    structure = m.get_structure_by_material_id(\"mp-675349\") #données , la fonction get_ ... permet d'obtenir la structure donnée\n",
    "                                                            #sur MP"
   ]
  },
  {
   "cell_type": "code",
   "execution_count": 6,
   "metadata": {},
   "outputs": [],
   "source": [
    "writer = CifWriter(structure,symprec=0.01) #N'ayant pas trouvé de fonction téléchargant directement le fichier CIF depuis MP je\n",
    "writer.write_file(\"mp-675349_download\")    # prends la structure et je crée un fichier CIF avec CifWriter à partir de celle-ci\n",
    "                                           # le paramètre symprec permet de calculer les opérations de symétrie"
   ]
  }
 ],
 "metadata": {
  "kernelspec": {
   "display_name": "Python 3",
   "language": "python",
   "name": "python3"
  },
  "language_info": {
   "codemirror_mode": {
    "name": "ipython",
    "version": 3
   },
   "file_extension": ".py",
   "mimetype": "text/x-python",
   "name": "python",
   "nbconvert_exporter": "python",
   "pygments_lexer": "ipython3",
   "version": "3.7.6"
  }
 },
 "nbformat": 4,
 "nbformat_minor": 4
}
