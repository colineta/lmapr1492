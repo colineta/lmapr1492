{
 "metadata": {
  "language_info": {
   "codemirror_mode": {
    "name": "ipython",
    "version": 3
   },
   "file_extension": ".py",
   "mimetype": "text/x-python",
   "name": "python",
   "nbconvert_exporter": "python",
   "pygments_lexer": "ipython3",
   "version": "3.9.2-final"
  },
  "orig_nbformat": 2,
  "kernelspec": {
   "name": "python3",
   "display_name": "Python 3.9.2 64-bit",
   "metadata": {
    "interpreter": {
     "hash": "d054757a6c031c5944df61db783262d96f3e4362d60bbfa63cf037af724e8fed"
    }
   }
  }
 },
 "nbformat": 4,
 "nbformat_minor": 2,
 "cells": [
  {
   "cell_type": "code",
   "execution_count": 17,
   "metadata": {},
   "outputs": [],
   "source": [
    "from pymatgen.ext.matproj import MPRester        #Cette cellule permet de télécharger les modules utilsier pour télécharger le fichier\n",
    "from pymatgen.io.cif import CifWriter            #CIF, avec MPRester qui permet d'accéder à la base de donnée de Material Project (MP)\n",
    "from pymatgen.core.structure import Structure,Lattice# et CifWriter qui contient les fonctions pour créer un fichier CIF\n",
    "from pymatgen.symmetry.analyzer import SpacegroupAnalyzer\n",
    "from numpy import *"
   ]
  },
  {
   "cell_type": "code",
   "execution_count": 2,
   "metadata": {},
   "outputs": [],
   "source": [
    "with MPRester(\"GZeryMtA91usB78Q\") as m:                     #Cette cellule utilise ma clé personnelle pour accéder à la base de \n",
    "    structure = m.get_structure_by_material_id(\"mp-675349\") #données , la fonction get_ ... permet d'obtenir la structure donnée\n",
    "                                                            #sur MP"
   ]
  },
  {
   "cell_type": "code",
   "execution_count": 3,
   "metadata": {},
   "outputs": [],
   "source": [
    "writer = CifWriter(structure,symprec=0.01) #N'ayant pas trouvé de fonction téléchargeant directement le fichier CIF depuis MP je\n",
    "writer.write_file(\"mp-675349_download.cif\")    # prends la structure et je crée un fichier CIF avec CifWriter à partir de celle-ci\n",
    "                                           # le paramètre symprec permet de calculer les opérations de symétrie"
   ]
  },
  {
   "cell_type": "code",
   "execution_count": 47,
   "metadata": {},
   "outputs": [],
   "source": [
    "matrix = structure.lattice.matrix\n",
    "omega = structure.volume\n",
    "a = matrix[0]\n",
    "b = matrix[1]\n",
    "c = matrix[2]\n",
    "astar = 2*pi/omega*cross(b,c)\n",
    "bstar = 2*pi/omega*cross(c,a)\n",
    "cstar = 2*pi/omega*cross(a,b)\n",
    "sA = SpacegroupAnalyzer(structure)"
   ]
  },
  {
   "cell_type": "code",
   "execution_count": 31,
   "metadata": {},
   "outputs": [
    {
     "output_type": "stream",
     "name": "stdout",
     "text": [
      "2.049212 -3.549338 0.000000\n2.049212 3.549338 0.000000\n0.000000 0.000000 6.414456\n"
     ]
    }
   ],
   "source": [
    "print(structure.lattice)"
   ]
  },
  {
   "cell_type": "code",
   "execution_count": 45,
   "metadata": {},
   "outputs": [],
   "source": [
    "from prettytable import PrettyTable\n",
    "\n",
    "def makePrettyTable(table_col0,table_row1, table_row2, table_row3):\n",
    "    table_col1 = [table_row1[0],table_row2[0],table_row3[0]]\n",
    "    table_col2 = [table_row1[1],table_row2[1],table_row3[1]]\n",
    "    table_col3 = [table_row1[2],table_row2[2],table_row3[2]]\n",
    "    table = PrettyTable()\n",
    "    table.add_column(\"\",table_col0)\n",
    "    table.add_column(\"Composante x\", table_col1)\n",
    "    table.add_column(\"Composante y\", table_col2)\n",
    "    table.add_column(\"Composante z\", table_col3)\n",
    "    return table"
   ]
  },
  {
   "cell_type": "code",
   "execution_count": 48,
   "metadata": {},
   "outputs": [
    {
     "output_type": "stream",
     "name": "stdout",
     "text": [
      "RESEAU DIRECT :\n\n+---+--------------+--------------+--------------+\n|   | Composante x | Composante y | Composante z |\n+---+--------------+--------------+--------------+\n| a |   2.049212   |  -3.549338   |     0.0      |\n| b |   2.049212   |   3.549338   |     0.0      |\n| c |     0.0      |     0.0      |   6.414456   |\n+---+--------------+--------------+--------------+ \n\nRESEAU RECIPROQUE :\n\n+----+--------------------+---------------------+--------------------+\n|    |    Composante x    |     Composante y    |    Composante z    |\n+----+--------------------+---------------------+--------------------+\n| a* | 1.5330735197674978 | -0.8851207333845899 |        0.0         |\n| b* | 1.5330735197674978 |  0.8851207333845899 |        -0.0        |\n| c* |        -0.0        |         0.0         | 0.9795351791608807 |\n+----+--------------------+---------------------+--------------------+ \n\nTYPE DE MAILLE :\n\nhexagonal \n\nSYSTEME CRISTALLIN :\n\ntrigonal \n\nGROUPE PONCTUEL :\n\n3m \n\n"
     ]
    }
   ],
   "source": [
    "print('RESEAU DIRECT :\\n')\n",
    "print(makePrettyTable(['a','b','c'],a,b,c), '\\n')\n",
    "print('RESEAU RECIPROQUE :\\n')\n",
    "print(makePrettyTable(['a*','b*','c*'],astar,bstar,cstar), '\\n')\n",
    "print('TYPE DE MAILLE :\\n')\n",
    "print(sA.get_lattice_type(), '\\n')\n",
    "print('SYSTEME CRISTALLIN :\\n')\n",
    "print(sA.get_crystal_system(), '\\n')\n",
    "print('GROUPE PONCTUEL :\\n')\n",
    "print(sA.get_point_group_symbol(), '\\n')"
   ]
  },
  {
   "cell_type": "code",
   "execution_count": null,
   "metadata": {},
   "outputs": [],
   "source": []
  }
 ]
}