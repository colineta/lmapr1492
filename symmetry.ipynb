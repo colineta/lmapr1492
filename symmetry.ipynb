{
 "cells": [
  {
   "cell_type": "code",
   "execution_count": 132,
   "id": "single-future",
   "metadata": {},
   "outputs": [],
   "source": [
    "from pymatgen.ext.matproj import MPRester #Cette cellule permet de télécharger les modules utilsier pour télécharger le fichier\n",
    "from pymatgen.io.cif import CifWriter     #CIF, avec MPRester qui permet d'accéder à la base de donnée de Material Project (MP)\n",
    "from pymatgen import Structure            # et CifWriter qui contient les fonctions pour créer un fichier CIF\n",
    "from jupyter_jsmol.pymatgen import quick_view\n",
    "from pymatgen.core.operations import SymmOp\n",
    "from numpy import *"
   ]
  },
  {
   "cell_type": "code",
   "execution_count": 133,
   "id": "homeless-breath",
   "metadata": {},
   "outputs": [],
   "source": [
    "with MPRester(\"GZeryMtA91usB78Q\") as m:                     #Cette cellule utilise ma clé personnelle pour accéder à la base de \n",
    "    structure = m.get_structure_by_material_id(\"mp-675349\") #données , la fonction get_ ... permet d'obtenir la structure donnée\n",
    "                                                            #sur MP"
   ]
  },
  {
   "cell_type": "code",
   "execution_count": 134,
   "id": "future-plain",
   "metadata": {},
   "outputs": [],
   "source": [
    "writer = CifWriter(structure,symprec=0.01) #N'ayant pas trouvé de fonction téléchargeant directement le fichier CIF depuis MP je\n",
    "writer.write_file(\"mp-675349_download.cif\")    # prends la structure et je crée un fichier CIF avec CifWriter à partir de celle-ci\n",
    "                                           # le paramètre symprec permet de calculer les opérations de symétrie"
   ]
  },
  {
   "cell_type": "code",
   "execution_count": 137,
   "id": "advised-mystery",
   "metadata": {
    "scrolled": true
   },
   "outputs": [
    {
     "data": {
      "text/plain": [
       "Structure Summary\n",
       "Lattice\n",
       "    abc : 4.098422874617503 4.098422874617503 6.414456\n",
       " angles : 90.0 90.0 119.99998183332657\n",
       " volume : 93.30911605737492\n",
       "      A : 2.049212 -3.549338 0.0\n",
       "      B : 2.049212 3.549338 0.0\n",
       "      C : 0.0 0.0 6.414456\n",
       "PeriodicSite: Dy (0.0000, 0.0000, 3.2751) [0.0000, 0.0000, 0.5106]\n",
       "PeriodicSite: Cu (2.0492, -1.1831, 0.8507) [0.6667, 0.3333, 0.1326]\n",
       "PeriodicSite: Se (2.0492, 1.1831, 1.5062) [0.3333, 0.6667, 0.2348]\n",
       "PeriodicSite: Se (2.0492, -1.1831, 4.7985) [0.6667, 0.3333, 0.7481]"
      ]
     },
     "execution_count": 137,
     "metadata": {},
     "output_type": "execute_result"
    }
   ],
   "source": [
    "structure1 =structure\n",
    "structure2 =structure\n",
    "structure3 =structure\n",
    "structure.coords_are_cartesian =True\n",
    "structure #Affiche la structure pour obtenir les coordonnées des atomes en coordonnées cartésiennes (entre parenthèses)"
   ]
  },
  {
   "cell_type": "markdown",
   "id": "dimensional-board",
   "metadata": {},
   "source": [
    "## Les opérations de symmétries"
   ]
  },
  {
   "cell_type": "markdown",
   "id": "special-malaysia",
   "metadata": {},
   "source": [
    "Les opérations de symétrie peuvent être calculées grâce aux matrices d'opérations, les calculs présentés dans les cellules suivantes sont fait en coordonnées cartésiennes. Ces données ont été obtenues grâce à l'objet Structure. Afin d'obtenir l'image de la symétrie on applique la matrice S (3x3) au vecteur de l'atome auquel on applique l'opération de symmétrie, x (3x1) afin d'obtenir le vecteur x° donnant la position de l'atome obtenu par symmétrie selon l'équation : \\$ x° = S*x \\$. Dans les celules suivantes la matrice 3x3 affiché est cette matrice S. Lorsque une opération donne un atome qui n'est pas dans la maille primitive, grâce à la périodicité du réseau, l'atome donnée peut être transposé dans la maille primitive. Cependant les coordonnées données par l'opération de Pymatgen donne la position dans le réseau et non dans la maille une correction manuelle est donc appliquée lorsqu'elle est nécessaire."
   ]
  },
  {
   "cell_type": "code",
   "execution_count": 138,
   "id": "traditional-lithuania",
   "metadata": {},
   "outputs": [
    {
     "name": "stdout",
     "output_type": "stream",
     "text": [
      " L'atome de Dysprosium est situé en [0.     0.     3.2751] en coordonnées cartésiennes \n",
      " Il subit une opération de rotation d'un angle de 120° autour du paramètre de maille c donnée par la matrice : \n",
      " [[ 0. -1.  0.]\n",
      " [ 1. -1.  0.]\n",
      " [ 0.  0.  1.]] \n",
      " Elle se retrouve alors en [0.     0.     3.2751]\n",
      " Cette opération peut être représentée en 3D grâce à JSmol, cette représentation est montére ci-dessous : \n",
      " (Relancer en cas de non affichage jusqu'à fonctionnment)\n"
     ]
    },
    {
     "data": {
      "application/vnd.jupyter.widget-view+json": {
       "model_id": "38e9607e971f4c859ada5bbc406eb720",
       "version_major": 2,
       "version_minor": 0
      },
      "text/plain": [
       "JsmolView(layout=Layout(align_self='stretch', height='400px'))"
      ]
     },
     "metadata": {},
     "output_type": "display_data"
    }
   ],
   "source": [
    "Dy = array([0.0000, 0.0000, 3.2751]) #position de l'atome en coordonnée cartésiennes\n",
    "op1 = SymmOp.from_xyz_string('-y, x-y, z') # définition de l'opération de symétrie ici une rotation selon c\n",
    "dp1 = op1.operate(Dy) #application de l'opération à l'atome\n",
    "print(\" L'atome de Dysprosium est situé en\",Dy,\"en coordonnées cartésiennes \\n\",\"Il subit une opération de rotation d'un angle de 120° autour du paramètre de maille c donnée par la matrice S: \\n\",op1.rotation_matrix,\"\\n Elle se retrouve alors en\",dp1,)\n",
    "print(\" Cette opération peut être représentée en 3D grâce à JSmol, cette représentation est montére ci-dessous :\",\"\\n (Relancer en cas de non affichage jusqu'à fonctionnment)\")\n",
    "view1 = quick_view(structure1) #les lignes suivantes permettent la visualisation sur jsmol\n",
    "display(view1)\n",
    "view1.script('draw symop 2 {atomno=1}') #Relancer en cas de non affichage jusqu'à fonctionnment"
   ]
  },
  {
   "cell_type": "code",
   "execution_count": 145,
   "id": "eleven-bonus",
   "metadata": {},
   "outputs": [
    {
     "name": "stdout",
     "output_type": "stream",
     "text": [
      " L'atome de Sélénium es situé en [ 2.0492 -1.1831  4.7985] en coordonnées cartésiennes \n",
      " Il subit une opération de plan miroir par le plan (1 1 0) donnée par la matrice S: \n",
      " [[ 0. -1.  0.]\n",
      " [-1.  0.  0.]\n",
      " [ 0.  0.  1.]] \n",
      " Elle se retrouve alors en [ 1.1831 -2.0492  4.7985] dans la maille primitive l'atome équivalent est lui même et donc \n",
      " ses coordonnées sont [ 2.0492 -1.1831  4.7985] \n",
      " Cette opération peut être représentée en 3D grâce à JSmol, cette représentation est montére ci-dessous : \n",
      " (Relancer en cas de non affichage jusqu'à fonctionnment)\n"
     ]
    },
    {
     "data": {
      "application/vnd.jupyter.widget-view+json": {
       "model_id": "082461c0ca2d431fa0977d993a1f2609",
       "version_major": 2,
       "version_minor": 0
      },
      "text/plain": [
       "JsmolView(layout=Layout(align_self='stretch', height='400px'))"
      ]
     },
     "metadata": {},
     "output_type": "display_data"
    }
   ],
   "source": [
    "Se =array([2.0492, -1.1831, 4.7985]) #position de l'atome en coordonnée cartésiennes\n",
    "op2 = SymmOp.from_xyz_string('-y, -x, z') # définition de l'opération de symétrie ici un plan miroir donné par le plan (1 1 0)\n",
    "dp2 = op2.operate(Se) #application de l'opération à l'atome\n",
    "print(\" L'atome de Sélénium es situé en\",Se,\"en coordonnées cartésiennes \\n\",\"Il subit une opération de plan miroir par le plan (1 1 0) donnée par la matrice S: \\n\",op2.rotation_matrix,\"\\n Elle se retrouve alors en\",dp2,\"dans la maille primitive l'atome équivalent est lui même et donc \")\n",
    "print(\" ses coordonnées sont [ 2.0492 -1.1831  4.7985] \")\n",
    "print(\" Cette opération peut être représentée en 3D grâce à JSmol, cette représentation est montére ci-dessous :\",\"\\n (Relancer en cas de non affichage jusqu'à fonctionnment)\")\n",
    "view2 = quick_view(structure2) #les lignes suivantes permettent la visualisation sur jsmol\n",
    "display(view2)\n",
    "view2.script('draw symop 4 {atomno=4}') #Relancer en cas de non affichage jusqu'à fonctionnment"
   ]
  },
  {
   "cell_type": "code",
   "execution_count": 146,
   "id": "accessory-netherlands",
   "metadata": {},
   "outputs": [
    {
     "name": "stdout",
     "output_type": "stream",
     "text": [
      " L'atome de Cuivre situé en [ 2.0492 -1.1831  0.8507] en coordonnées cartésiennes \n",
      " Subit une opération de plan miroir à travers le plan (2 1 0) donnée par la matrice : \n",
      " [[ 1.  0.  0.]\n",
      " [ 1. -1.  0.]\n",
      " [ 0.  0.  1.]] \n",
      " Elle se retrouve alors en [2.0492 3.2323 0.8507] dans la maille primitive l'atome équivalent est lui même et donc \n",
      " ses coordonnées sont [ 2.0492 -1.1831  0.8507] \n",
      " Cette opération peut être représentée en 3D grâce à JSmol, cette représentation est montére ci-dessous S: \n",
      " (Relancer en cas de non affichage jusqu'à fonctionnment)\n"
     ]
    },
    {
     "data": {
      "application/vnd.jupyter.widget-view+json": {
       "model_id": "2ad2bcc687934eb9b84a7bb332a56b08",
       "version_major": 2,
       "version_minor": 0
      },
      "text/plain": [
       "JsmolView(layout=Layout(align_self='stretch', height='400px'))"
      ]
     },
     "metadata": {},
     "output_type": "display_data"
    }
   ],
   "source": [
    "Cu = array([2.0492, -1.1831, 0.8507]) #position de l'atome en coordonnée cartésiennes\n",
    "op3 = SymmOp.from_xyz_string('x, x-y, z') # définition de l'opération de symétrie ici un plan miroir donné par le plan (2 -1 0) )\n",
    "dp3 = op3.operate(Cu) #application de l'opération à l'atome\n",
    "print(\" L'atome de Cuivre situé en\",Cu,\"en coordonnées cartésiennes \\n\",\"Subit une opération de plan miroir à travers le plan (2 1 0) donnée par la matrice : \\n\",op3.rotation_matrix,\"\\n Elle se retrouve alors en\",dp3,\"dans la maille primitive l'atome équivalent est lui même et donc \")\n",
    "print(\" ses coordonnées sont [ 2.0492 -1.1831  0.8507] \")\n",
    "print(\" Cette opération peut être représentée en 3D grâce à JSmol, cette représentation est montére ci-dessous S:\",\"\\n (Relancer en cas de non affichage jusqu'à fonctionnment)\")\n",
    "view3 = quick_view(structure3) #les lignes suivantes permettent la visualisation sur jsmol\n",
    "display(view3)\n",
    "view3.script('draw symop 5 {atomno=2}') #Relancer en cas de non affichage jusqu'à fonctionnment"
   ]
  }
 ],
 "metadata": {
  "kernelspec": {
   "display_name": "Python 3",
   "language": "python",
   "name": "python3"
  },
  "language_info": {
   "codemirror_mode": {
    "name": "ipython",
    "version": 3
   },
   "file_extension": ".py",
   "mimetype": "text/x-python",
   "name": "python",
   "nbconvert_exporter": "python",
   "pygments_lexer": "ipython3",
   "version": "3.6.8"
  }
 },
 "nbformat": 4,
 "nbformat_minor": 5
}
